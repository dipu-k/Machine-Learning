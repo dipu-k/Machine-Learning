{
  "cells": [
    {
      "cell_type": "markdown",
      "metadata": {
        "id": "view-in-github",
        "colab_type": "text"
      },
      "source": [
        "<a href=\"https://colab.research.google.com/github/dipu-k/Machine-Learning/blob/main/Credit_score_prediction.ipynb\" target=\"_parent\"><img src=\"https://colab.research.google.com/assets/colab-badge.svg\" alt=\"Open In Colab\"/></a>"
      ]
    },
    {
      "cell_type": "code",
      "source": [
        "import pandas as pd\n",
        "import numpy as np\n",
        "import matplotlib.pyplot as plt\n",
        "import seaborn as sns\n",
        "\n",
        "# Preprocessing\n",
        "# df.drop('Unnamed: 0', axis=1, inplace=True) # Removed this line\n"
      ],
      "metadata": {
        "id": "b4_IKkYPUTzo"
      },
      "execution_count": 1,
      "outputs": []
    },
    {
      "cell_type": "code",
      "source": [
        "from sklearn.model_selection import train_test_split\n",
        "from sklearn.preprocessing import LabelEncoder, StandardScaler\n",
        "from sklearn.metrics import classification_report, confusion_matrix, roc_auc_score, roc_curve\n",
        "from sklearn.linear_model import LogisticRegression\n",
        "from sklearn.tree import DecisionTreeClassifier\n",
        "from sklearn.ensemble import RandomForestClassifier"
      ],
      "metadata": {
        "id": "RWPB05hxVRSm"
      },
      "execution_count": 2,
      "outputs": []
    },
    {
      "cell_type": "code",
      "source": [
        "# Load Dataset\n",
        "# url = \"https://raw.githubusercontent.com/ArashVahabpour/German-Credit-Data/master/german_credit_data.csv\"\n",
        "df = pd.read_csv(\"/content/german_credit_data.csv\")"
      ],
      "metadata": {
        "id": "rwEVUhkGVROi"
      },
      "execution_count": 4,
      "outputs": []
    },
    {
      "cell_type": "code",
      "source": [
        "# Preview\n",
        "print(df.head())"
      ],
      "metadata": {
        "colab": {
          "base_uri": "https://localhost:8080/"
        },
        "id": "34jr_klcVRLP",
        "outputId": "b2d36a38-2df7-451f-d632-1a5441c637b4"
      },
      "execution_count": 5,
      "outputs": [
        {
          "output_type": "stream",
          "name": "stdout",
          "text": [
            "                             CustomerID CheckingStatus  LoanDuration  \\\n",
            "0  713a336c-a255-4e2d-9d57-90b3e99e2f06       0_to_200            31   \n",
            "1  140b363f-a3fe-4828-a33f-7284dfdb3969         less_0            18   \n",
            "2  43b7b51d-5eda-4860-b461-ebef3d3436f4         less_0            15   \n",
            "3  f40eaf08-e6d1-4765-ab20-c5f7faca1635       0_to_200            28   \n",
            "4  1728910a-d3ff-4799-ac50-203a3a58a3fb    no_checking            28   \n",
            "\n",
            "            CreditHistory LoanPurpose  LoanAmount ExistingSavings  \\\n",
            "0    credits_paid_to_date       other        1889      100_to_500   \n",
            "1    credits_paid_to_date     car_new         462        less_100   \n",
            "2  prior_payments_delayed   furniture         250        less_100   \n",
            "3    credits_paid_to_date  retraining        3693        less_100   \n",
            "4  prior_payments_delayed   education        6235     500_to_1000   \n",
            "\n",
            "  EmploymentDuration  InstallmentPercent     Sex  ...       OwnsProperty  Age  \\\n",
            "0             less_1                   3  female  ...  savings_insurance   32   \n",
            "1             1_to_4                   2  female  ...  savings_insurance   37   \n",
            "2             1_to_4                   2    male  ...        real_estate   28   \n",
            "3          greater_7                   3    male  ...  savings_insurance   32   \n",
            "4          greater_7                   3    male  ...            unknown   57   \n",
            "\n",
            "  InstallmentPlans  Housing ExistingCreditsCount      Job  Dependents  \\\n",
            "0             none      own                    1  skilled           1   \n",
            "1           stores      own                    2  skilled           1   \n",
            "2             none      own                    2  skilled           1   \n",
            "3             none      own                    1  skilled           1   \n",
            "4             none      own                    2  skilled           1   \n",
            "\n",
            "  Telephone  ForeignWorker     Risk  \n",
            "0      none            yes  No Risk  \n",
            "1      none            yes  No Risk  \n",
            "2       yes             no  No Risk  \n",
            "3      none            yes  No Risk  \n",
            "4      none            yes     Risk  \n",
            "\n",
            "[5 rows x 22 columns]\n"
          ]
        }
      ]
    },
    {
      "cell_type": "code",
      "source": [
        "print(df.columns)\n"
      ],
      "metadata": {
        "colab": {
          "base_uri": "https://localhost:8080/"
        },
        "id": "j5SS47jpVRI1",
        "outputId": "467c1789-e3c3-407b-98f3-5237194cd3cc"
      },
      "execution_count": null,
      "outputs": [
        {
          "output_type": "stream",
          "name": "stdout",
          "text": [
            "Index(['CustomerID', 'CheckingStatus', 'LoanDuration', 'CreditHistory',\n",
            "       'LoanPurpose', 'LoanAmount', 'ExistingSavings', 'EmploymentDuration',\n",
            "       'InstallmentPercent', 'Sex', 'OthersOnLoan', 'CurrentResidenceDuration',\n",
            "       'OwnsProperty', 'Age', 'InstallmentPlans', 'Housing',\n",
            "       'ExistingCreditsCount', 'Job', 'Dependents', 'Telephone',\n",
            "       'ForeignWorker', 'Risk'],\n",
            "      dtype='object')\n"
          ]
        }
      ]
    },
    {
      "cell_type": "code",
      "source": [
        "if 'Unnamed: 0' in df.columns:\n",
        "    df.drop('Unnamed: 0', axis=1, inplace=True)\n"
      ],
      "metadata": {
        "id": "DPio_vfYVRGL"
      },
      "execution_count": null,
      "outputs": []
    },
    {
      "cell_type": "code",
      "source": [
        "# Label encoding for categorical features\n",
        "cat_cols = df.select_dtypes(include='object').columns\n",
        "le = LabelEncoder()\n",
        "for col in cat_cols:\n",
        "    df[col] = le.fit_transform(df[col])"
      ],
      "metadata": {
        "id": "S5eNmMRXVRDu"
      },
      "execution_count": null,
      "outputs": []
    },
    {
      "cell_type": "code",
      "source": [
        "# Features and Target\n",
        "X = df.drop('Risk', axis=1)\n",
        "y = df['Risk']  # 1=good, 0=bad"
      ],
      "metadata": {
        "id": "S2AwC6ALVQ1a"
      },
      "execution_count": null,
      "outputs": []
    },
    {
      "cell_type": "code",
      "source": [
        "# Train-test split\n",
        "X_train, X_test, y_train, y_test = train_test_split(X, y, test_size=0.2, random_state=42)\n"
      ],
      "metadata": {
        "id": "meFq9kQJWGc_"
      },
      "execution_count": null,
      "outputs": []
    },
    {
      "cell_type": "code",
      "source": [
        "# Feature Scaling\n",
        "scaler = StandardScaler()\n",
        "X_train_scaled = scaler.fit_transform(X_train)\n",
        "X_test_scaled = scaler.transform(X_test)"
      ],
      "metadata": {
        "id": "d7cmAqMVWGaW"
      },
      "execution_count": null,
      "outputs": []
    },
    {
      "cell_type": "code",
      "source": [
        "# Models\n",
        "models = {\n",
        "    \"Logistic Regression\": LogisticRegression(),\n",
        "    \"Decision Tree\": DecisionTreeClassifier(),\n",
        "    \"Random Forest\": RandomForestClassifier()\n",
        "}"
      ],
      "metadata": {
        "id": "wstZ7ZKUWGXz"
      },
      "execution_count": null,
      "outputs": []
    },
    {
      "cell_type": "code",
      "source": [
        "# Train and evaluate\n",
        "for name, model in models.items():\n",
        "    print(f\"\\n{name}\")\n",
        "    model.fit(X_train_scaled, y_train)\n",
        "    y_pred = model.predict(X_test_scaled)\n",
        "\n",
        "    print(\"Classification Report:\")\n",
        "    print(classification_report(y_test, y_pred))\n",
        "\n",
        "    print(\"Confusion Matrix:\")\n",
        "    print(confusion_matrix(y_test, y_pred))\n",
        "\n",
        "    # ROC AUC\n",
        "    if hasattr(model, \"predict_proba\"):\n",
        "        probs = model.predict_proba(X_test_scaled)[:, 1]\n",
        "        auc = roc_auc_score(y_test, probs)\n",
        "        print(f\"ROC AUC Score: {auc:.4f}\")\n",
        "\n",
        "        fpr, tpr, _ = roc_curve(y_test, probs)\n",
        "        plt.plot(fpr, tpr, label=f'{name} (AUC = {auc:.2f})')\n"
      ],
      "metadata": {
        "colab": {
          "base_uri": "https://localhost:8080/",
          "height": 1000
        },
        "id": "30XRdUI6WGS8",
        "outputId": "4128b9d7-aa42-43a0-b6be-01c317f11a59"
      },
      "execution_count": null,
      "outputs": [
        {
          "output_type": "stream",
          "name": "stdout",
          "text": [
            "\n",
            "Logistic Regression\n",
            "Classification Report:\n",
            "              precision    recall  f1-score   support\n",
            "\n",
            "           0       0.81      0.88      0.84       665\n",
            "           1       0.71      0.59      0.65       335\n",
            "\n",
            "    accuracy                           0.78      1000\n",
            "   macro avg       0.76      0.74      0.74      1000\n",
            "weighted avg       0.78      0.78      0.78      1000\n",
            "\n",
            "Confusion Matrix:\n",
            "[[585  80]\n",
            " [137 198]]\n",
            "ROC AUC Score: 0.8241\n",
            "\n",
            "Decision Tree\n",
            "Classification Report:\n",
            "              precision    recall  f1-score   support\n",
            "\n",
            "           0       0.80      0.78      0.79       665\n",
            "           1       0.59      0.60      0.59       335\n",
            "\n",
            "    accuracy                           0.72      1000\n",
            "   macro avg       0.69      0.69      0.69      1000\n",
            "weighted avg       0.73      0.72      0.72      1000\n",
            "\n",
            "Confusion Matrix:\n",
            "[[522 143]\n",
            " [133 202]]\n",
            "ROC AUC Score: 0.6940\n",
            "\n",
            "Random Forest\n",
            "Classification Report:\n",
            "              precision    recall  f1-score   support\n",
            "\n",
            "           0       0.79      0.91      0.84       665\n",
            "           1       0.74      0.53      0.61       335\n",
            "\n",
            "    accuracy                           0.78      1000\n",
            "   macro avg       0.76      0.72      0.73      1000\n",
            "weighted avg       0.77      0.78      0.77      1000\n",
            "\n",
            "Confusion Matrix:\n",
            "[[602  63]\n",
            " [159 176]]\n",
            "ROC AUC Score: 0.8308\n"
          ]
        },
        {
          "output_type": "display_data",
          "data": {
            "text/plain": [
              "<Figure size 640x480 with 1 Axes>"
            ],
            "image/png": "[encoded data removed]"
          },
          "metadata": {}
        }
      ]
    },
    {
      "cell_type": "code",
      "source": [
        "# ROC Curve\n",
        "plt.plot([0, 1], [0, 1], 'k--')\n",
        "plt.xlabel(\"False Positive Rate\")\n",
        "plt.ylabel(\"True Positive Rate\")\n",
        "plt.title(\"ROC Curve\")\n",
        "plt.legend()\n",
        "plt.grid()\n",
        "plt.show()"
      ],
      "metadata": {
        "colab": {
          "base_uri": "https://localhost:8080/",
          "height": 527
        },
        "id": "Z9F-mRT8WGHu",
        "outputId": "659aaa60-3233-428a-bcda-21af7deec849"
      },
      "execution_count": null,
      "outputs": [
        {
          "output_type": "stream",
          "name": "stderr",
          "text": [
            "/tmp/ipython-input-26-2365122258.py:6: UserWarning: No artists with labels found to put in legend.  Note that artists whose label start with an underscore are ignored when legend() is called with no argument.\n",
            "  plt.legend()\n"
          ]
        },
        {
          "output_type": "display_data",
          "data": {
            "text/plain": [
              "<Figure size 640x480 with 1 Axes>"
            ],
            "image/png": "[encoded data removed]"
          },
          "metadata": {}
        }
      ]
    },
    {
      "cell_type": "markdown",
      "source": [],
      "metadata": {
        "id": "Gy6m4jAeX81a"
      }
    }
  ],
  "metadata": {
    "colab": {
      "provenance": [],
      "include_colab_link": true
    },
    "kernelspec": {
      "display_name": "Python 3",
      "name": "python3"
    }
  },
  "nbformat": 4,
  "nbformat_minor": 0
}